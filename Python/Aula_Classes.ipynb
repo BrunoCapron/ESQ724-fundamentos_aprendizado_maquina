{
  "cells": [
    {
      "cell_type": "markdown",
      "metadata": {
        "id": "view-in-github",
        "colab_type": "text"
      },
      "source": [
        "<a href=\"https://colab.research.google.com/github/BrunoCapron/ESQ724-fundamentos_aprendizado_maquina/blob/main/Python/Aula_Classes.ipynb\" target=\"_parent\"><img src=\"https://colab.research.google.com/assets/colab-badge.svg\" alt=\"Open In Colab\"/></a>"
      ]
    },
    {
      "cell_type": "markdown",
      "metadata": {
        "id": "2TDwduybziKc"
      },
      "source": [
        "# Classes e métodos\n",
        "\n",
        "**Objetivos**: Apresentar as funções e métodos de Python\n",
        "\n",
        "Conteúdo adaptado de Fellipe Silva Martins em [`fellipemartins/python_curso`](https://github.com/fellipemartins/python_curso)"
      ]
    },
    {
      "cell_type": "markdown",
      "metadata": {
        "id": "YTejUuTDziKd"
      },
      "source": [
        "Python é uma linguagem com suporte à programação orientada a objetos (POO). De forma simplista, programação orientada a objetos (POO) é um paradigma de programação baseado no conceito de \"objetos\" - que podem conter dados e código: dados no formato de campos (também chamados de ***atributos*** ou propriedades), e código na forma de procedimentos (também conhecidos como ***métodos***).\n",
        "\n",
        "Uma **classe** é uma um \"diagrama de produção\" ou \"protótipo\" a partir do qual são criadas **instâncias** ou **objetos**. A criação de uma classe facilita a criação de objetos, porque cada objeto **herda** da classe carecterísticas e ações.\n",
        "\n",
        "\n",
        "Dentro do paradigma POO, objetos pertencem a *classes*, isto é, um objeto que pertence à classe X, herda as características (*atributos* e *métodos* da classe)."
      ]
    },
    {
      "cell_type": "markdown",
      "metadata": {
        "id": "c2T3fgv9ziKe"
      },
      "source": [
        "## Exemplo de Classe:\n",
        "Imagine a classe `carro`. Todo carro tem características que podem ser descritas (***atributo***: `.attribute`) e consegue fazer ações ou receber ações (***métodos***: `.method()`).\n",
        "\n",
        "Considere o exemplo da classe `carro`:\n",
        "\n",
        "> - **Classe**: Carro\n",
        ">    - ***atributo*** *marca*: BMW, Mercedes, Audi, Volkswagen, Gurgel, etc.\n",
        ">    - ***atributo*** *motor*: 1.0, 2.0, 4.0, etc.\n",
        ">    - ***atributo*** *formato*: hatch, sedan, etc.\n",
        ">    - ***atributo*** *assentos*: 1, 2, 4, 6, 7, 8, etc\n",
        ">    - ...\n",
        ">    - ***método*** *ligar carro*\n",
        ">    - ***método*** *ligar farol*\n",
        ">    - ***método*** *acelerar*\n",
        ">    - ***método*** *frear*\n",
        ">    - ***método*** *limpar o carro*\n",
        ">    - ***método*** *abastecer*\n",
        ">    - ..."
      ]
    },
    {
      "cell_type": "markdown",
      "metadata": {
        "id": "Og26cImLziKf"
      },
      "source": [
        "## Notação\n",
        "\n",
        "A notação usada para atributos e métodos é diferente, porque ambos têm usos diferentes.\n",
        "\n",
        "Um **atributo** é um 'dado' ou uma 'descrição' associada ao objeto - não há \"ação\" envolvida.\n",
        "\n",
        "Por outro lado, os **métodos** envolvem alguma ação relacionada ao objeto - seja o objeto fazendo a ação, ou uma ação feita no objeto.\n",
        "\n",
        "Em Python, usamos a seguinte notação:\n",
        "\n",
        "* `.attribute`: já que não há ação\n",
        "* `.method()`: uma vez que é uma função `()`\n",
        "\n",
        "Qual é então a diferença entre uma ***função*** e um ***método***? De forma grosseira, nenhuma - ambas são funções. A diferença é que uma função pura não está atrelada a nenhum objeto específico e funciona de acordo com os parâmetros dela própria, ou seja, vai rodar se o objeto que você passar estiver no escopo dela: `function(object)`. Um método por outro lado sempre está atrelado a um tipo de classe e objeto e por isso se escreve na notação de ponto: `object.method()`."
      ]
    },
    {
      "cell_type": "markdown",
      "metadata": {
        "id": "zGAHSN9XziKf"
      },
      "source": [
        "## Criando uma Classe\n",
        "\n",
        "Imagine que você é o gerente do Habib's e precisa criar os dados a respeito dos pratos. Que características genéricas podemos elencar a respeito de todo e qualquer prato do restaurante? Exemplos:\n",
        "\n",
        "* Preço\n",
        "* Nome\n",
        "* Conteúdo\n",
        "* Se tem alergênicos\n",
        "* Se requer pratos\n",
        "* Se requer copos\n",
        "* etc\n"
      ]
    },
    {
      "cell_type": "markdown",
      "metadata": {
        "id": "Cpbej-J-ziKg"
      },
      "source": [
        "Para criar uma classe, basta usar a palavra-chave `class`, dar um nome, e em seguida, começar as instruções da classe:\n",
        "\n",
        "```python\n",
        "class Nome():\n",
        "    pass #pass \"pula\" sem executar nada, nem retornar erros...\n",
        "```\n",
        "\n",
        "Vamos criar uma classe `Prato` (do restaurante) vazia. Ao invés de passar um conteúdo, vamos usar `pass` para não retornar erro:"
      ]
    },
    {
      "cell_type": "code",
      "execution_count": null,
      "metadata": {
        "id": "zxQGkrk-ziKh"
      },
      "outputs": [],
      "source": [
        "class Prato:\n",
        "    pass"
      ]
    },
    {
      "cell_type": "markdown",
      "metadata": {
        "id": "YdE74NZrziKi"
      },
      "source": [
        "Mesmo sendo uma classe vazia e sem sentido você já consegue instanciar (criar) objetos da classe. Perceba que ambos são objetos do tipo `Prato`, e ocupam espaços diferentes na memória:"
      ]
    },
    {
      "cell_type": "code",
      "execution_count": null,
      "metadata": {
        "id": "CbYUPBbuziKj",
        "outputId": "a2a6781c-0fbf-4c11-f1d8-d31d7e38d70e",
        "colab": {
          "base_uri": "https://localhost:8080/"
        }
      },
      "outputs": [
        {
          "output_type": "stream",
          "name": "stdout",
          "text": [
            "<__main__.Prato object at 0x7ef48597b740>\n",
            "<__main__.Prato object at 0x7ef48581cfe0>\n"
          ]
        }
      ],
      "source": [
        "prato_1 = Prato()\n",
        "prato_2 = Prato()\n",
        "print(prato_1)\n",
        "print(prato_2)"
      ]
    },
    {
      "cell_type": "markdown",
      "metadata": {
        "id": "OrMeRZDWziKk"
      },
      "source": [
        "Você, em teoria, já pode criar atributos direto na instância, sem afetar a classe:"
      ]
    },
    {
      "cell_type": "code",
      "execution_count": null,
      "metadata": {
        "id": "DSnBtpYgziKk",
        "outputId": "80799ddf-c00f-44aa-af7e-0003af58f3b0",
        "colab": {
          "base_uri": "https://localhost:8080/"
        }
      },
      "outputs": [
        {
          "output_type": "stream",
          "name": "stdout",
          "text": [
            "prato verão\n",
            "17.99\n"
          ]
        }
      ],
      "source": [
        "prato_1.nome = \"prato verão\"\n",
        "prato_1.preco = 17.99\n",
        "print(prato_1.nome)\n",
        "print(prato_1.preco)"
      ]
    },
    {
      "cell_type": "markdown",
      "metadata": {
        "id": "2_lblcSqziKk"
      },
      "source": [
        "### Usando o Método Construtor `__init__()`\n",
        "\n",
        "No entanto essa classe está bastante *crua*. Para criar uma boa classe em `Python`, você precisa do método construtor inicializadora `__init__()`.\n",
        "\n",
        "> **Dica**: Observe que é a primeira vez na disciplina que estamos vendo uma função escrita com *dunder* (*double under* ou *underline* duplo) antes e depois do nome da função - não serve um *underline* somente!\n",
        ">\n",
        "> Por isso esses métodos com duplo *underline* são chamados de *dunder methods*.\n",
        "\n",
        "Sem inicializar com `__init__()` uma classe não tem muita utilidade. A função `__init__()` é chamada toda vez que uma classe é iniciada e por isso toda classe acabda tendo uma `__init__()`. Se você vem do C++, por exemplo, tem uso similar a um construtor. A função `__init__()` serve para atrelar as características ou ações à identidade quando um objeto é criado.\n",
        "\n",
        "`__init__` é o método construtor da classe e faz alocação de recursos necessários ao funcionamento do objeto além da definição inicial dos atributos do objeto. Ele é executado quando da criação do objeto.\n",
        "\n",
        "Note que todos os métodos têm como primeiro parâmetro o `self`. Todo método em Python é obrigado a ter este paramêtro e por padronização adotou-se a palavra `self` (padrão [PEP-8](https://www.python.org/dev/peps/pep-0008/)) que faz referência ao próprio objeto que está sendo criado e/ou manipulado.\n",
        "\n",
        "Como você está criando uma função, deve-se usar `def` como vimos anteriormente (e não somente `__init__()`). O primeiro parâmetro é a própria instância a ser criada. No caso do exemplo, quando você cria um novo prato, o primeiro parâmetro é a identidade - o prato em si. Convenciona-se usar a palavra `self` mas você pode usar o que você quiser (apesar de que todo mundo chama de `self` mesmo).\n",
        "\n",
        "Após o parâmetro da identidade da instância (`self`), você pode passar outros parâmetros:"
      ]
    },
    {
      "cell_type": "code",
      "execution_count": null,
      "metadata": {
        "id": "n_LAAlMlziKk"
      },
      "outputs": [],
      "source": [
        "# classe Prato\n",
        "class Prato:\n",
        "\n",
        "    # construtor da classe (método init)\n",
        "    def __init__(self, nome, preco):\n",
        "\n",
        "        # atributos das instâncias\n",
        "        self.nome = nome\n",
        "        self.preco = preco"
      ]
    },
    {
      "cell_type": "markdown",
      "metadata": {
        "id": "kdSjjuOWziKl"
      },
      "source": [
        "Chamar internamente o seu objeto de `self` é ótimo porque você não precisa dar um novo nome a cada instância, e sim atrelar o nome que você quer à instância.\n",
        "\n",
        "<img src=\"https://github.com/storopoli/ciencia-de-dados/blob/main/notebooks/images/classe.png?raw=1\" width = 350>\n",
        "\n",
        "Vamos recriar a instância chamada `salada_verao` de uma forma melhor. Entenda o mecanismo - toda vez que você chamar o objeto `salada_verao`.\n",
        "\n",
        "A função `__init__()` recebe como parâmetros duas entradas (`nome`, `preco`). Em seguida, salva internamente como dois atributos do objeto que está sendo criado. Aqui, para facilitar, chamamos de `self.nome` e `self.preco` mas poderia ser `self.nome_produto = nome` e `self.preco_venda = preco`.\n",
        "\n",
        "Veja como fica - lembre que estamos instanciando o objeto com os parâmetros na ordem que foram colocados na definição da classe:"
      ]
    },
    {
      "cell_type": "code",
      "execution_count": null,
      "metadata": {
        "id": "Y9qL--ANziKl"
      },
      "outputs": [],
      "source": [
        "#prato_verao = Prato(preco=1.99, nome=\"Prato Verão\") #funciona igual\n",
        "prato_verao = Prato(\"Prato Verão\", 17.99)"
      ]
    },
    {
      "cell_type": "markdown",
      "metadata": {
        "id": "1PMju1JJziKl"
      },
      "source": [
        "O que acontece quando criamos esse objeto? A função `__init__()` é automaticamente chamada, puxando os atributos `nome` e `preco` e atrelando (por meio do `self`) aos atributos do objeto criado:\n",
        "\n",
        "\n",
        "<img src=\"https://github.com/storopoli/ciencia-de-dados/blob/main/notebooks/images/classe2.png?raw=1\" width = 620>"
      ]
    },
    {
      "cell_type": "code",
      "execution_count": null,
      "metadata": {
        "id": "SoHBoniJziKl",
        "outputId": "e0691fc7-c8a5-49f3-c382-33c813d85a5b",
        "colab": {
          "base_uri": "https://localhost:8080/",
          "height": 35
        }
      },
      "outputs": [
        {
          "output_type": "execute_result",
          "data": {
            "text/plain": [
              "'Prato Verão'"
            ],
            "application/vnd.google.colaboratory.intrinsic+json": {
              "type": "string"
            }
          },
          "metadata": {},
          "execution_count": 6
        }
      ],
      "source": [
        "prato_verao.nome"
      ]
    },
    {
      "cell_type": "code",
      "execution_count": null,
      "metadata": {
        "id": "VU8-CDq_ziKm",
        "outputId": "5ce2bfe9-a6d9-40ed-a22b-563b488cc4a8",
        "colab": {
          "base_uri": "https://localhost:8080/"
        }
      },
      "outputs": [
        {
          "output_type": "execute_result",
          "data": {
            "text/plain": [
              "17.99"
            ]
          },
          "metadata": {},
          "execution_count": 7
        }
      ],
      "source": [
        "prato_verao.preco"
      ]
    },
    {
      "cell_type": "markdown",
      "metadata": {
        "id": "_jj077tCziKm"
      },
      "source": [
        "Você pode alterar o atributo direto na instância:\n",
        "\n",
        "> Para quem vem de C++, não há atributos ou métodos privados em Python, todos são `public`. Ou quem vem de Rust, todos são `pub`."
      ]
    },
    {
      "cell_type": "code",
      "execution_count": null,
      "metadata": {
        "id": "vSHozF8LziKm",
        "outputId": "2ede16dd-1ec6-49b0-df2b-865d5d5c5abb",
        "colab": {
          "base_uri": "https://localhost:8080/"
        }
      },
      "outputs": [
        {
          "output_type": "execute_result",
          "data": {
            "text/plain": [
              "9.99"
            ]
          },
          "metadata": {},
          "execution_count": 8
        }
      ],
      "source": [
        "prato_verao.preco = 9.99\n",
        "prato_verao.preco"
      ]
    },
    {
      "cell_type": "markdown",
      "metadata": {
        "id": "zwg0NTVrziKm"
      },
      "source": [
        "Aproveitando, você pode usar o atributo `__dict__` que retorna um dicionário com todos os atributos e métodos do objeto:\n",
        "\n",
        "> Mais um *dunder method* automaticamente definido quando criamos uma classe\n",
        ">\n",
        "> Para uma listagem completa de todos os *dunder methods* disponíveis veja a [documentação oficial de Python](https://docs.python.org/3/library/functions.html)"
      ]
    },
    {
      "cell_type": "code",
      "execution_count": null,
      "metadata": {
        "id": "Xx95UsBuziKm",
        "outputId": "26438656-d2cf-41f4-c0a4-0992d7b5027b",
        "colab": {
          "base_uri": "https://localhost:8080/"
        }
      },
      "outputs": [
        {
          "output_type": "execute_result",
          "data": {
            "text/plain": [
              "{'nome': 'Prato Verão', 'preco': 9.99}"
            ]
          },
          "metadata": {},
          "execution_count": 9
        }
      ],
      "source": [
        "prato_verao.__dict__"
      ]
    },
    {
      "cell_type": "markdown",
      "metadata": {
        "id": "nMTW8x1hziKn"
      },
      "source": [
        "Continuando, como vimos antes, você não tem que manter o nome do parâmetro passado na criação da classe igual ao nome do atributo de cada instância:\n",
        "\n",
        "```python\n",
        "class Prato:\n",
        "  def __init__(self, nome, preco):\n",
        "        # atributo     # parâmetro\n",
        "    self.nome_produto  = nome\n",
        "    self.preco_atual   = preco\n",
        "    self.texto_menu    = nome + \" \" + str(preco)\n",
        "```\n",
        "\n",
        "Mas é *muito* mais fácil em termos de organização e diminui erros se você manter o padrão `self.atributo = parâmetro` com `atributo` e `parâmetro` com o mesmo nome."
      ]
    },
    {
      "cell_type": "markdown",
      "metadata": {
        "id": "N95jj9lmziKn"
      },
      "source": [
        "### Criando Métodos\n",
        "\n",
        "Você pode criar as funções direto dentro da classe (por isso chamamos de métodos). Cada método em uma classe sempre precisa fazer uma ligação com o objeto da classe, por isso o primeiro argumento vai ser sempre `self`.\n",
        "\n",
        "Agora, observe - se mantivermos `salada_verao.nome` e `salada_verao.preco` na construção do método, todo novo objeto apresentará os dados da Salada Verão e não de si mesmos! Por isso,ara `self.atributo`: mudamos p"
      ]
    },
    {
      "cell_type": "code",
      "execution_count": null,
      "metadata": {
        "id": "G9OR7KDgziKn"
      },
      "outputs": [],
      "source": [
        "# classe Prato\n",
        "class Prato:\n",
        "\n",
        "    # construtor da classe (método init)\n",
        "    def __init__(self, nome, preco):\n",
        "\n",
        "        # atributos das instâncias\n",
        "        self.nome = nome\n",
        "        self.preco = preco\n",
        "        self.texto_menu = nome + \" \" + str(preco)\n",
        "\n",
        "    # método da classe\n",
        "    def apresentar_promocao(self):\n",
        "        print(f\"O produto {self.nome} se encontra disponível. Somente R$ {self.preco}!!\")"
      ]
    },
    {
      "cell_type": "code",
      "execution_count": null,
      "metadata": {
        "id": "MemmAtK1ziKn",
        "outputId": "7d1a7533-e460-4f12-e4dc-e9cc430d2667",
        "colab": {
          "base_uri": "https://localhost:8080/"
        }
      },
      "outputs": [
        {
          "output_type": "stream",
          "name": "stdout",
          "text": [
            "O produto Prato Verão se encontra disponível. Somente R$ 17.99!!\n"
          ]
        }
      ],
      "source": [
        "prato_verao = Prato(\"Prato Verão\", 17.99)\n",
        "prato_verao.apresentar_promocao()"
      ]
    },
    {
      "cell_type": "markdown",
      "metadata": {
        "id": "5WX0iRn2ziKn"
      },
      "source": [
        "Criar um método sem se referenciar ao `self` retorna erro. Como em toda função, esse código não é avaliado em sua criação e sim durante a interpretação (você só descobre depois!). Se você olhar o erro que retorna, trata-se da falta do `self` (`...takes 0 positional arguments but 1 was given`).\n",
        "\n",
        "Compare com a criação de um objeto direto da classe - retorna erro! Por que? Porque não há referência a qual objeto se trata!"
      ]
    },
    {
      "cell_type": "code",
      "execution_count": null,
      "metadata": {
        "id": "a3tCPcigziKo",
        "outputId": "0f0e8fc2-7dcd-4462-dab2-a057f75d047c",
        "colab": {
          "base_uri": "https://localhost:8080/",
          "height": 158
        }
      },
      "outputs": [
        {
          "output_type": "error",
          "ename": "TypeError",
          "evalue": "Prato.apresentar_promocao() missing 1 required positional argument: 'self'",
          "traceback": [
            "\u001b[0;31m---------------------------------------------------------------------------\u001b[0m",
            "\u001b[0;31mTypeError\u001b[0m                                 Traceback (most recent call last)",
            "\u001b[0;32m/tmp/ipython-input-1073846714.py\u001b[0m in \u001b[0;36m<cell line: 0>\u001b[0;34m()\u001b[0m\n\u001b[1;32m      1\u001b[0m \u001b[0;31m#Retorna erro!!\u001b[0m\u001b[0;34m\u001b[0m\u001b[0;34m\u001b[0m\u001b[0m\n\u001b[0;32m----> 2\u001b[0;31m \u001b[0mPrato\u001b[0m\u001b[0;34m.\u001b[0m\u001b[0mapresentar_promocao\u001b[0m\u001b[0;34m(\u001b[0m\u001b[0;34m)\u001b[0m\u001b[0;34m\u001b[0m\u001b[0;34m\u001b[0m\u001b[0m\n\u001b[0m",
            "\u001b[0;31mTypeError\u001b[0m: Prato.apresentar_promocao() missing 1 required positional argument: 'self'"
          ]
        }
      ],
      "source": [
        "#Retorna erro!!\n",
        "Prato.apresentar_promocao()"
      ]
    },
    {
      "cell_type": "code",
      "execution_count": null,
      "metadata": {
        "id": "g6OZnHR9ziKo",
        "outputId": "6a7363ff-ef14-4572-a6db-0e1ee84667e2",
        "colab": {
          "base_uri": "https://localhost:8080/"
        }
      },
      "outputs": [
        {
          "output_type": "stream",
          "name": "stdout",
          "text": [
            "O produto Prato Verão se encontra disponível. Somente R$ 17.99!!\n"
          ]
        }
      ],
      "source": [
        "Prato.apresentar_promocao(prato_verao)"
      ]
    },
    {
      "cell_type": "markdown",
      "metadata": {
        "id": "E9HPnDUAziKo"
      },
      "source": [
        "Por isso você precisa so `self` dentro do método - trata-se de uma referência a si mesmo, ao invés de outro objeto. Compare:\n",
        "```Python\n",
        "salada_verao.apresentar_promocao()\n",
        "Prato.apresentar_promocao(salada_verao)\n",
        "```\n",
        "No primeiro caso (se houver o `self` na definição do método), basta o nome do objeto para funcionar. No segundo caso, você teria que explicitar a qual objeto se refere."
      ]
    },
    {
      "cell_type": "markdown",
      "metadata": {
        "id": "a27Q3vgzziKo"
      },
      "source": [
        "### Criando Atributos\n",
        "\n",
        "Até o momento vimos somente atributos da instância, ou do objeto - isto é, criados no e para o objeto em questão. Mas uma classe pode ter atributos genéricos, comuns a todos os objetos criados a partir dela.\n",
        "\n",
        "Vamos criar um desconto fidelidade, que será aplicado a todos os pratos - independentemente de qual tipo e quantidade. Que tal 5% de desconto? Vamos criar uma variável `desconto` com valor de `0.95`."
      ]
    },
    {
      "cell_type": "code",
      "execution_count": null,
      "metadata": {
        "id": "oft_mv9lziKo"
      },
      "outputs": [],
      "source": [
        "# classe Prato\n",
        "class Prato:\n",
        "\n",
        "    # atributo da classe\n",
        "    desconto = 0.95\n",
        "\n",
        "    # construtor da classe (método init)\n",
        "    def __init__(self, nome, preco):\n",
        "\n",
        "        # atributos das instâncias\n",
        "        self.nome = nome\n",
        "        self.preco = preco\n",
        "        self.texto_menu = nome + \" \" + str(preco)\n",
        "\n",
        "    # método da classe\n",
        "    def apresentar_promocao(self):\n",
        "        print(f\"O produto {self.nome} se encontra disponível. Somente R$ {self.preco}!!\")"
      ]
    },
    {
      "cell_type": "markdown",
      "metadata": {
        "id": "nfqhQwuTziKp"
      },
      "source": [
        "Como você pode ver, o Prato Verão em sua criação não recebe parâmetro de desconto. Se não tem seu próprio parâmetro, de onde vem entao esse desconto? A instância ***herda*** da classe..."
      ]
    },
    {
      "cell_type": "code",
      "execution_count": null,
      "metadata": {
        "id": "Zl5TSkYuziKp",
        "outputId": "8329e55b-19e5-4f86-ca14-de952a82e2f4",
        "colab": {
          "base_uri": "https://localhost:8080/"
        }
      },
      "outputs": [
        {
          "output_type": "execute_result",
          "data": {
            "text/plain": [
              "0.95"
            ]
          },
          "metadata": {},
          "execution_count": 16
        }
      ],
      "source": [
        "prato_verao = Prato(\"Prato Verão\", 17.99)\n",
        "prato_verao.desconto"
      ]
    },
    {
      "cell_type": "markdown",
      "metadata": {
        "id": "YDyRnpAcziKp"
      },
      "source": [
        "Para tirar dúvida, vamos criar um outro prato, *Kafta na bandeja* (somente R$ 14.99 😉) e ver se temos desconto:"
      ]
    },
    {
      "cell_type": "code",
      "execution_count": null,
      "metadata": {
        "id": "J052h0bnziKp",
        "outputId": "86aecea3-a139-4098-be77-e36355a83787",
        "colab": {
          "base_uri": "https://localhost:8080/"
        }
      },
      "outputs": [
        {
          "output_type": "execute_result",
          "data": {
            "text/plain": [
              "0.95"
            ]
          },
          "metadata": {},
          "execution_count": 17
        }
      ],
      "source": [
        "kafta_bandeja = Prato(\"Kafta na bandeja\", 14.99)\n",
        "kafta_bandeja.desconto"
      ]
    },
    {
      "cell_type": "markdown",
      "metadata": {
        "id": "gC01Vqe6ziKq"
      },
      "source": [
        "Porque o desconto é .95? Porque o preço do prato vezes 0.95 será 5 por cento menor. E é isso que vamos implementar na função `desconto_fidelidade()`:"
      ]
    },
    {
      "cell_type": "code",
      "execution_count": null,
      "metadata": {
        "id": "VojTNE2kziKq"
      },
      "outputs": [],
      "source": [
        "# classe Prato\n",
        "class Prato:\n",
        "\n",
        "    # atributo da classe\n",
        "    desconto = 0.95\n",
        "\n",
        "    # construtor da classe (método init)\n",
        "    def __init__(self, nome, preco):\n",
        "\n",
        "        # atributos das instâncias\n",
        "        self.nome = nome\n",
        "        self.preco = preco\n",
        "        self.texto_menu = nome + \" \" + str(preco)\n",
        "\n",
        "    # método da classe\n",
        "    def apresentar_promocao(self):\n",
        "        print(f\"O produto {self.nome} se encontra disponível. Somente R$ {self.preco}!!\")\n",
        "\n",
        "    # método da classe\n",
        "    def desconto_fidelidade(self):\n",
        "        self.preco_fidelidade = self.preco * self.desconto"
      ]
    },
    {
      "cell_type": "markdown",
      "metadata": {
        "id": "uZ09_yPeziK3"
      },
      "source": [
        "No entanto, essa função vai retornar um erro:"
      ]
    },
    {
      "cell_type": "code",
      "execution_count": null,
      "metadata": {
        "id": "BFI06ZtyziK3",
        "outputId": "b7738327-2e2a-4c92-fd1d-48f975f6781a",
        "colab": {
          "base_uri": "https://localhost:8080/"
        }
      },
      "outputs": [
        {
          "output_type": "execute_result",
          "data": {
            "text/plain": [
              "14.240499999999999"
            ]
          },
          "metadata": {},
          "execution_count": 25
        }
      ],
      "source": [
        "kafta_bandeja = Prato(\"Kafta na bandeja\", 14.99)\n",
        "kafta_bandeja.desconto_fidelidade()\n",
        "kafta_bandeja.preco_fidelidade"
      ]
    },
    {
      "cell_type": "markdown",
      "metadata": {
        "id": "e9BRLDkTziK3"
      },
      "source": [
        "Isso ocorre porque a variável `desconto` precisa ser atrelada a alguém - ou à própria classe (`Prato.desconto`) ou à instância (`self.desconto`). Porque podemos usar `self.atributo`? Porque no momento da criação da instância, se não houver (como no exemplo não há) parâmetro, a instância automaticamente herda da classe:"
      ]
    },
    {
      "cell_type": "code",
      "execution_count": null,
      "metadata": {
        "id": "vBBa_N7VziK4"
      },
      "outputs": [],
      "source": [
        "# classe Prato\n",
        "class Prato:\n",
        "\n",
        "    # atributo da classe\n",
        "    desconto = 0.95\n",
        "\n",
        "    # construtor da classe (método init)\n",
        "    def __init__(self, nome, preco):\n",
        "\n",
        "        # atributos das instâncias\n",
        "        self.nome = nome\n",
        "        self.preco = preco\n",
        "        self.texto_menu = nome + \" \" + str(preco)\n",
        "\n",
        "    # método da classe\n",
        "    def apresentar_promocao(self):\n",
        "        print(f\"O produto {self.nome} se encontra disponível. Somente R$ {self.preco}!!\")\n",
        "\n",
        "    # método da classe\n",
        "    def desconto_fidelidade(self):\n",
        "        self.preco_fidelidade = self.preco * self.desconto\n",
        "\n",
        "    # método da classe\n",
        "    def definir_desconto(self, novo_desconto):\n",
        "        self.desconto = novo_desconto\n",
        "\n",
        "    # método da classe\n",
        "    def apresentar_desconto(self):\n",
        "        return str(round((1 - self.desconto) * 100, 2)) + \"%\""
      ]
    },
    {
      "cell_type": "code",
      "execution_count": null,
      "metadata": {
        "tags": [],
        "id": "1xHfR2o4ziK4",
        "outputId": "a38e3ce8-7d26-4397-9740-2834be7949cb",
        "colab": {
          "base_uri": "https://localhost:8080/",
          "height": 35
        }
      },
      "outputs": [
        {
          "output_type": "execute_result",
          "data": {
            "text/plain": [
              "'5.0%'"
            ],
            "application/vnd.google.colaboratory.intrinsic+json": {
              "type": "string"
            }
          },
          "metadata": {},
          "execution_count": 28
        }
      ],
      "source": [
        "kafta_bandeja = Prato(\"Kafta na bandeja\", 14.99)\n",
        "kafta_bandeja.desconto_fidelidade()\n",
        "kafta_bandeja.apresentar_desconto()"
      ]
    },
    {
      "cell_type": "code",
      "execution_count": null,
      "metadata": {
        "id": "k7-Fa1thziK4",
        "outputId": "b679d39c-3d02-4be7-bc8d-31eb4d2751e2",
        "colab": {
          "base_uri": "https://localhost:8080/",
          "height": 35
        }
      },
      "outputs": [
        {
          "output_type": "execute_result",
          "data": {
            "text/plain": [
              "'20.0%'"
            ],
            "application/vnd.google.colaboratory.intrinsic+json": {
              "type": "string"
            }
          },
          "metadata": {},
          "execution_count": 29
        }
      ],
      "source": [
        "kafta_bandeja = Prato(\"Kafta na bandeja\", 14.99)\n",
        "kafta_bandeja.definir_desconto(0.8)\n",
        "kafta_bandeja.apresentar_desconto()"
      ]
    },
    {
      "cell_type": "markdown",
      "metadata": {
        "id": "PF4gHKkEziK5"
      },
      "source": [
        "### Vendo o Conteúdo com `__dict__()`\n",
        "\n",
        "Agora, vamos usar `__dict__` como antes para verificar:"
      ]
    },
    {
      "cell_type": "code",
      "execution_count": null,
      "metadata": {
        "id": "tVef8KGbziK5",
        "outputId": "102437ba-ba8c-4cfd-c43f-da6787333d40",
        "colab": {
          "base_uri": "https://localhost:8080/"
        }
      },
      "outputs": [
        {
          "output_type": "stream",
          "name": "stdout",
          "text": [
            "{'nome': 'Kafta na bandeja', 'preco': 14.99, 'texto_menu': 'Kafta na bandeja 14.99', 'desconto': 0.8}\n"
          ]
        }
      ],
      "source": [
        "print(kafta_bandeja.__dict__)"
      ]
    },
    {
      "cell_type": "markdown",
      "metadata": {
        "id": "AKPG4i2eziK5"
      },
      "source": [
        "Hm, não tem `desconto` nem `preco_fidelidade`! Mas na classe o atributo e o método aparecem:"
      ]
    },
    {
      "cell_type": "code",
      "execution_count": null,
      "metadata": {
        "id": "nZ8AEBhHziK6",
        "outputId": "62c21a79-419d-4a09-db1f-1a82fdd908e2",
        "colab": {
          "base_uri": "https://localhost:8080/"
        }
      },
      "outputs": [
        {
          "output_type": "stream",
          "name": "stdout",
          "text": [
            "{'__module__': '__main__', 'desconto': 0.95, '__init__': <function Prato.__init__ at 0x7ef474d03740>, 'apresentar_promocao': <function Prato.apresentar_promocao at 0x7ef474d03420>, 'desconto_fidelidade': <function Prato.desconto_fidelidade at 0x7ef474d03a60>, 'definir_desconto': <function Prato.definir_desconto at 0x7ef474d03b00>, 'apresentar_desconto': <function Prato.apresentar_desconto at 0x7ef474d039c0>, '__dict__': <attribute '__dict__' of 'Prato' objects>, '__weakref__': <attribute '__weakref__' of 'Prato' objects>, '__doc__': None}\n"
          ]
        }
      ],
      "source": [
        "print(Prato.__dict__)"
      ]
    },
    {
      "cell_type": "markdown",
      "metadata": {
        "id": "z_mKgowaziK6"
      },
      "source": [
        "Para ver na prática como funciona essa *herança*, vamos alterar o desconto para 10% na classe e ver como fica o valor numa instância:"
      ]
    },
    {
      "cell_type": "code",
      "execution_count": null,
      "metadata": {
        "id": "pSqplT_TziK6",
        "outputId": "5ae0cea9-d567-42b9-c37a-e889aa17a90b",
        "colab": {
          "base_uri": "https://localhost:8080/"
        }
      },
      "outputs": [
        {
          "output_type": "execute_result",
          "data": {
            "text/plain": [
              "11.992"
            ]
          },
          "metadata": {},
          "execution_count": 32
        }
      ],
      "source": [
        "Prato.desconto = 0.90\n",
        "kafta_bandeja.desconto_fidelidade()\n",
        "kafta_bandeja.preco_fidelidade"
      ]
    },
    {
      "cell_type": "markdown",
      "metadata": {
        "id": "LJjie5NoziK6"
      },
      "source": [
        "Vamos voltar o desconto para 5% e mudar somente numa instância:"
      ]
    },
    {
      "cell_type": "code",
      "execution_count": null,
      "metadata": {
        "id": "yVXZBuqFziK6",
        "outputId": "d9008317-409f-451c-ba1a-ebabc9e3e4d0",
        "colab": {
          "base_uri": "https://localhost:8080/"
        }
      },
      "outputs": [
        {
          "output_type": "stream",
          "name": "stdout",
          "text": [
            "13.491\n"
          ]
        }
      ],
      "source": [
        "Prato.desconto = 0.95\n",
        "kafta_bandeja.desconto = 0.90\n",
        "kafta_bandeja.desconto_fidelidade()\n",
        "print(kafta_bandeja.preco_fidelidade)"
      ]
    },
    {
      "cell_type": "code",
      "execution_count": null,
      "metadata": {
        "id": "qeZkTM0aziK7",
        "outputId": "6c9bb53a-9e06-417e-8df1-e8b8ea314eec",
        "colab": {
          "base_uri": "https://localhost:8080/"
        }
      },
      "outputs": [
        {
          "output_type": "stream",
          "name": "stdout",
          "text": [
            "17.0905\n"
          ]
        }
      ],
      "source": [
        "prato_verao = Prato(\"Prato Verão\", 17.99)\n",
        "prato_verao.desconto_fidelidade()\n",
        "print(prato_verao.preco_fidelidade)"
      ]
    },
    {
      "cell_type": "markdown",
      "metadata": {
        "id": "tSjcycwEziK8"
      },
      "source": [
        "Um restaurante não deve ter um menu com inúmeras opções. Assim, podemos criar um atributo para ajudar a controlar o número de pratos do restaurante - inicializando com `num_pratos = 0`."
      ]
    },
    {
      "cell_type": "code",
      "execution_count": null,
      "metadata": {
        "id": "Ycsf_gHgziK8"
      },
      "outputs": [],
      "source": [
        "# classe Prato\n",
        "class Prato:\n",
        "\n",
        "    # atributo da classe\n",
        "    desconto = 0.95\n",
        "\n",
        "    # atributo da classe\n",
        "    num_pratos = 0\n",
        "\n",
        "    # construtor da classe (método init)\n",
        "    def __init__(self, nome, preco):\n",
        "\n",
        "        # atributos das instâncias\n",
        "        self.nome = nome\n",
        "        self.preco = preco\n",
        "        self.texto_menu = nome + \" \" + str(preco)\n",
        "\n",
        "    # método da instância\n",
        "    def apresentar_promocao(self):\n",
        "        print(f\"O produto {self.nome} se encontra disponível. Somente R$ {self.preco}!!\")\n",
        "\n",
        "    # método da instância\n",
        "    def desconto_fidelidade(self):\n",
        "        self.preco_fidelidade = self.preco * self.desconto\n",
        "\n",
        "    # método da instância\n",
        "    def definir_desconto(self, novo_desconto):\n",
        "        self.desconto = novo_desconto\n",
        "\n",
        "    # método da instância\n",
        "    def apresentar_desconto(self):\n",
        "        return str(round((1 - self.desconto) * 100, 2)) + \"%\""
      ]
    },
    {
      "cell_type": "code",
      "execution_count": null,
      "metadata": {
        "id": "6o2tT0btziK-",
        "outputId": "f323ed5b-7c3f-478a-91f1-f0c44669e9f3",
        "colab": {
          "base_uri": "https://localhost:8080/"
        }
      },
      "outputs": [
        {
          "output_type": "execute_result",
          "data": {
            "text/plain": [
              "0"
            ]
          },
          "metadata": {},
          "execution_count": 36
        }
      ],
      "source": [
        "prato_verao = Prato(\"Prato Verão\", 17.99)\n",
        "kafta_bandeja = Prato(\"Kafta na bandeja\", 14.99)\n",
        "bibs_salad = Prato(\"Bib's salad\", 8.99)\n",
        "Prato.num_pratos"
      ]
    },
    {
      "cell_type": "markdown",
      "metadata": {
        "id": "P4GGRNLHziK-"
      },
      "source": [
        "Por enquanto não é muito útil ter esse atributo, sem uso. Lembrando que toda vez que instanciamos um novo objeto, a função `__init__()` é chamada, vamos por um contador ali dentro.\n",
        "\n",
        "Note que cada vez que *instanciarmos um novo objeto*, o contador gera um a mais na *classe*. Afinal, queremos saber o total do restaurante"
      ]
    },
    {
      "cell_type": "code",
      "execution_count": null,
      "metadata": {
        "id": "x_1nuv3nziK_"
      },
      "outputs": [],
      "source": [
        "# classe Prato\n",
        "class Prato:\n",
        "\n",
        "    # atributo da classe\n",
        "    desconto = 0.95\n",
        "\n",
        "    # atributo da classe\n",
        "    num_pratos = 0\n",
        "\n",
        "    # construtor da classe (método init)\n",
        "    def __init__(self, nome, preco):\n",
        "\n",
        "        # atributos das instâncias\n",
        "        self.nome = nome\n",
        "        self.preco = preco\n",
        "        self.texto_menu = nome + \" \" + str(preco)\n",
        "\n",
        "        # usando o contador\n",
        "        Prato.num_pratos += 1\n",
        "\n",
        "    # método da instância\n",
        "    def apresentar_promocao(self):\n",
        "        print(f\"O produto {self.nome} se encontra disponível. Somente R$ {self.preco}!!\")\n",
        "\n",
        "    # método da instância\n",
        "    def desconto_fidelidade(self):\n",
        "        self.preco_fidelidade = self.preco * self.desconto\n",
        "       #self.preco_fidelidade = self.preco * Prato.desconto     <-- funciona igual\n",
        "\n",
        "    # método da instância\n",
        "    def definir_desconto(self, novo_desconto):\n",
        "        self.desconto = novo_desconto\n",
        "\n",
        "    # método da instância\n",
        "    def apresentar_desconto(self):\n",
        "        return str(round((1 - self.desconto) * 100, 2)) + \"%\""
      ]
    },
    {
      "cell_type": "code",
      "execution_count": null,
      "metadata": {
        "id": "RFvYjiGSziK_",
        "outputId": "30b891e8-da9e-4074-adb2-fab264d47eeb",
        "colab": {
          "base_uri": "https://localhost:8080/"
        }
      },
      "outputs": [
        {
          "output_type": "execute_result",
          "data": {
            "text/plain": [
              "3"
            ]
          },
          "metadata": {},
          "execution_count": 38
        }
      ],
      "source": [
        "prato_verao = Prato(\"Prato Verão\", 17.99)\n",
        "kafta_bandeja = Prato(\"Kafta na bandeja\", 14.99)\n",
        "bibs_salad = Prato(\"Bib's salad\", 8.99)\n",
        "Prato.num_pratos"
      ]
    },
    {
      "cell_type": "markdown",
      "metadata": {
        "id": "PXx5g2KMziLA"
      },
      "source": [
        "Usando a mesma lógica você pode criar um contador para pratos individuais, outro pra estoque e ver se não vai ser feito pedido de prato que não tem em estoque."
      ]
    },
    {
      "cell_type": "markdown",
      "metadata": {
        "id": "JiBrLBX6ziLA"
      },
      "source": [
        "Já vimos como criar um método que opera no objeto criado, mas vamos ver também como criar um método que funciona em toda a classe. Usando o exemplo do método `definir_desconto()`, perceba que ele opera no objeto, já que o primeiro parâmetro é o objeto em si mesmo (`self`).\n",
        "\n",
        "E se quisermos fazer uma promoção baixando os preços de todos os pratos de uma vez? Uma opção é manualmente mexer no atributo `Prato.desconto`, mas isso não é uma função:"
      ]
    },
    {
      "cell_type": "code",
      "execution_count": null,
      "metadata": {
        "id": "nvPZktBcziLA",
        "outputId": "4322e2f7-114e-4c1b-8105-8694eceeb0b8",
        "colab": {
          "base_uri": "https://localhost:8080/"
        }
      },
      "outputs": [
        {
          "output_type": "execute_result",
          "data": {
            "text/plain": [
              "0.8"
            ]
          },
          "metadata": {},
          "execution_count": 39
        }
      ],
      "source": [
        "Prato.desconto = 0.8\n",
        "Prato.desconto"
      ]
    },
    {
      "cell_type": "code",
      "execution_count": null,
      "metadata": {
        "id": "kXgxBWAXziLA",
        "outputId": "9d0aa1bf-9369-41e5-f339-6f4996f8538a",
        "colab": {
          "base_uri": "https://localhost:8080/",
          "height": 35
        }
      },
      "outputs": [
        {
          "output_type": "execute_result",
          "data": {
            "text/plain": [
              "'20.0%'"
            ],
            "application/vnd.google.colaboratory.intrinsic+json": {
              "type": "string"
            }
          },
          "metadata": {},
          "execution_count": 40
        }
      ],
      "source": [
        "bibs_salad.apresentar_desconto()"
      ]
    },
    {
      "cell_type": "markdown",
      "metadata": {
        "id": "Q4ySlnFlziLB"
      },
      "source": [
        "## Criando `@classmethod`\n",
        "\n",
        "Para fazer uma função que funcione na classe, vamos usar um decorador (*decorator*) chamado `@classmethod`. Não vimos decoradores, mas você pode ler mais sobre eles [aqui](https://www.datacamp.com/community/tutorials/decorators-python).\n",
        "\n",
        "Vamos chamar de `liquidacao` e usamos a seguinte sintaxe:\n",
        "```python\n",
        "@classmethod\n",
        "def funcao(cls, argumentos):\n",
        "    instrucoes\n",
        "```\n",
        "\n",
        "Aqui temos um novo parâmetro que indica que se trata da classe. No caso, vamos usar a convenção `cls` - você também pode chamar do que quiser, mas quase ninguém altera `cls`. Você não pode usar `class` porque é uma palavra reservada com outra função (criar classes)."
      ]
    },
    {
      "cell_type": "code",
      "execution_count": null,
      "metadata": {
        "id": "s6LK9tXKziLB"
      },
      "outputs": [],
      "source": [
        "# classe Prato\n",
        "class Prato:\n",
        "\n",
        "    # atributo da classe\n",
        "    desconto = 0.95\n",
        "\n",
        "    # atributo da classe\n",
        "    num_pratos = 0\n",
        "\n",
        "    # construtor da classe (método init)\n",
        "    def __init__(self, nome, preco):\n",
        "\n",
        "        # atributos das instâncias\n",
        "        self.nome = nome\n",
        "        self.preco = preco\n",
        "        self.texto_menu = nome + \" \" + str(preco)\n",
        "\n",
        "        # usando o contador\n",
        "        Prato.num_pratos += 1\n",
        "\n",
        "    # método da instância\n",
        "    def apresentar_promocao(self):\n",
        "        print(f\"O produto {self.nome} se encontra disponível. Somente R$ {self.preco}!!\")\n",
        "\n",
        "    # método da instância\n",
        "    def desconto_fidelidade(self):\n",
        "        self.preco_fidelidade = self.preco * self.desconto\n",
        "       #self.preco_fidelidade = self.preco * Prato.desconto     <-- funciona igual\n",
        "\n",
        "    # método da instância\n",
        "    def definir_desconto(self, novo_desconto):\n",
        "        self.desconto = novo_desconto\n",
        "\n",
        "    # método da instância\n",
        "    def apresentar_desconto(self):\n",
        "        return str(round((1 - self.desconto) * 100, 2)) + \"%\"\n",
        "\n",
        "    @classmethod\n",
        "    def liquidacao(cls, novo_desconto):\n",
        "        cls.desconto = novo_desconto"
      ]
    },
    {
      "cell_type": "code",
      "execution_count": null,
      "metadata": {
        "id": "QVgLJVynziLB"
      },
      "outputs": [],
      "source": [
        "Prato.liquidacao(0.5)"
      ]
    },
    {
      "cell_type": "code",
      "execution_count": null,
      "metadata": {
        "id": "S1xlwvBkziLB",
        "outputId": "5614525d-6e44-43b1-c550-7474c0d13878",
        "colab": {
          "base_uri": "https://localhost:8080/",
          "height": 35
        }
      },
      "outputs": [
        {
          "output_type": "execute_result",
          "data": {
            "text/plain": [
              "'50.0%'"
            ],
            "application/vnd.google.colaboratory.intrinsic+json": {
              "type": "string"
            }
          },
          "metadata": {},
          "execution_count": 43
        }
      ],
      "source": [
        "bibs_salad = Prato(\"Bib's salad\", 8.99)\n",
        "bibs_salad.apresentar_desconto()"
      ]
    },
    {
      "cell_type": "markdown",
      "metadata": {
        "id": "-26RRtUrziLC"
      },
      "source": [
        "Como um método de classe funciona na classe inteira, você também pode (apesar de não fazer muito sentido) usá-la direto na instância, mudando para todos:"
      ]
    },
    {
      "cell_type": "code",
      "execution_count": null,
      "metadata": {
        "id": "omv1MCyzziLC"
      },
      "outputs": [],
      "source": [
        "prato_verao = Prato(\"Prato Verão\", 17.99)\n",
        "kafta_bandeja = Prato(\"Kafta na bandeja\", 14.99)\n",
        "bibs_salad = Prato(\"Bib's salad\", 8.99)"
      ]
    },
    {
      "cell_type": "code",
      "execution_count": null,
      "metadata": {
        "id": "XT_b4VCRziLC"
      },
      "outputs": [],
      "source": [
        "prato_verao.liquidacao(0.5)"
      ]
    },
    {
      "cell_type": "code",
      "execution_count": null,
      "metadata": {
        "id": "Jvt2r_AKziLC",
        "outputId": "b176e976-3612-4164-b074-96949ea0fdd6",
        "colab": {
          "base_uri": "https://localhost:8080/"
        }
      },
      "outputs": [
        {
          "output_type": "stream",
          "name": "stdout",
          "text": [
            "50.0%\n",
            "50.0%\n",
            "50.0%\n"
          ]
        }
      ],
      "source": [
        "print(prato_verao.apresentar_desconto())\n",
        "print(kafta_bandeja.apresentar_desconto())\n",
        "print(bibs_salad.apresentar_desconto())"
      ]
    },
    {
      "cell_type": "markdown",
      "metadata": {
        "id": "W4w-S4bQziLC"
      },
      "source": [
        "## Criando `@staticmethod`\n",
        "\n",
        "Além do método de classe, podemos também criar um método estático. O método estático não puxa referência (nem ao `self` nem à `cls`). Aí você pode perguntar, então porque está na classe se não se refere nem a ela nem às suas instâncias? Há casos que pode valer a pena incluir uma função numa classe por agrupamento.\n",
        "\n",
        "Por exemplo, já que controlamos o percentual de promoção de um prato, podemos querer saber se é dia da semana ou fim de semana para ajustar esse percentual. Poderíamos usar uma funçaõ fora da classe, claro, mas pode ser útil já incluir na classe também.\n",
        "\n",
        "Uma boa dica para saber se vamos usar um método de classe ou estático é se acessamos no escopo da função algum atributo ou função da classe. No caso, não usaremos, e por isso a decisão de usar um método estático é uma boa.\n",
        "\n",
        "No nosso exemplo, vamos usar o módulo `datetime` da biblioteca padrão de Python para importar a data de hoje, e retornar se é fim de semana ou não. Fim de semana tem mais demanda geralmente, portanto, não necessitamos tanto de promoção. Durante a semana, para estiumular a clientela, podemos melhorar as condições da promoção.\n",
        "\n",
        "Vamos usar um decorador `@staticmethod`, passando um argumento só (`dia`). Novamente, perceba que não passamos `self` nem `cls`. O resto é um *if-else* simples que imprime `Fim de semana - não fazer promoção!` para sábado (5) e domingo (6):\n",
        "\n",
        "```python\n",
        "    @staticmethod\n",
        "    def dia_semana(dia):\n",
        "        if dia.weekday() == 5 or dia.weekday() == 6:\n",
        "            print(\"Fim de semana - não fazer promoção!\")\n",
        "        else:\n",
        "            print(\"Dia de semana - fazer promoção!\")\n",
        "```"
      ]
    },
    {
      "cell_type": "code",
      "execution_count": null,
      "metadata": {
        "tags": [],
        "id": "dl_JOQ63ziLD"
      },
      "outputs": [],
      "source": [
        "# classe Prato\n",
        "class Prato:\n",
        "\n",
        "    # atributo da classe\n",
        "    desconto = 0.95\n",
        "\n",
        "    # atributo da classe\n",
        "    num_pratos = 0\n",
        "\n",
        "    # construtor da classe (método init)\n",
        "    def __init__(self, nome, preco):\n",
        "\n",
        "        # atributos das instâncias\n",
        "        self.nome = nome\n",
        "        self.preco = preco\n",
        "        self.texto_menu = nome + \" \" + str(preco)\n",
        "\n",
        "        # usando o contador\n",
        "        Prato.num_pratos += 1\n",
        "\n",
        "    # método da instância\n",
        "    def apresentar_promocao(self):\n",
        "        print(f\"O produto {self.nome} se encontra disponível. Somente R$ {self.preco}!!\")\n",
        "\n",
        "    # método da instância\n",
        "    def desconto_fidelidade(self):\n",
        "        self.preco_fidelidade = self.preco * self.desconto\n",
        "       #self.preco_fidelidade = self.preco * Prato.desconto     <-- funciona igual\n",
        "\n",
        "    # método da instância\n",
        "    def definir_desconto(self, novo_desconto):\n",
        "        self.desconto = novo_desconto\n",
        "\n",
        "    # método da instância\n",
        "    def apresentar_desconto(self):\n",
        "        return str(round((1 - self.desconto) * 100, 2)) + \"%\"\n",
        "\n",
        "    @classmethod\n",
        "    def liquidacao(cls, novo_desconto):\n",
        "        cls.desconto = novo_desconto\n",
        "\n",
        "    @staticmethod\n",
        "    def dia_semana(dia):\n",
        "        if dia.weekday() == 5 or dia.weekday() == 6:\n",
        "            print(\"Fim de semana - não fazer promoção!\")\n",
        "        else:\n",
        "            print(\"Dia de semana - fazer promoção!\")"
      ]
    },
    {
      "cell_type": "code",
      "execution_count": null,
      "metadata": {
        "id": "oGcnxeOPziLE"
      },
      "outputs": [],
      "source": [
        "from datetime import date\n",
        "\n",
        "hoje = date.today()"
      ]
    },
    {
      "cell_type": "code",
      "execution_count": null,
      "metadata": {
        "id": "gvcES6KeziLE",
        "outputId": "0567f6f8-2f1c-4c06-850f-b35db931632d",
        "colab": {
          "base_uri": "https://localhost:8080/"
        }
      },
      "outputs": [
        {
          "output_type": "stream",
          "name": "stdout",
          "text": [
            "Dia de semana - fazer promoção!\n"
          ]
        }
      ],
      "source": [
        "Prato.dia_semana(hoje)"
      ]
    },
    {
      "cell_type": "code",
      "execution_count": null,
      "metadata": {
        "id": "N5i_-8APziLE",
        "outputId": "da4a5ab6-c7e2-496f-e5bf-e2c0aa5ccd4c",
        "colab": {
          "base_uri": "https://localhost:8080/"
        }
      },
      "outputs": [
        {
          "output_type": "stream",
          "name": "stdout",
          "text": [
            "Dia de semana - fazer promoção!\n"
          ]
        }
      ],
      "source": [
        "data = date(2021, 9, 13)\n",
        "Prato.dia_semana(data)"
      ]
    },
    {
      "cell_type": "markdown",
      "metadata": {
        "tags": [],
        "id": "VFJU7pCWziLF"
      },
      "source": [
        "## Criando Subclasses\n",
        "\n",
        "Da mesma forma que um objeto herda características de uma classe, uma outra classe (*subclasse*) pode herdar características da classe *superior*. Como exemplo, podemos pensar nos pratos do Habib's - até agora vimos pratos prontos (verão, kafta, etc), mas o carro-chefe são as esfirras. As esfirras também são pratos, portanto faz sentido criar uma subclasse que já herde as características da classe superior (pratos).\n",
        "\n",
        "Criar uma subclasse não altera a classe superior, ao mesmo tempo que permite criar características próprias. Vamos começar criando uma outra classe `esfirra`, vazia por enquanto:\n",
        "\n",
        "```python\n",
        "class Esfirra():\n",
        "    pass\n",
        "```\n",
        "No entanto essa classe não tem ligação nenhuma com a classe `Prato`. Para tanto, vamos por `Prato` como parâmetro da classe `Esfirra`:"
      ]
    },
    {
      "cell_type": "code",
      "execution_count": null,
      "metadata": {
        "id": "O94Nxp59ziLG"
      },
      "outputs": [],
      "source": [
        "class Esfirra(Prato):\n",
        "    pass"
      ]
    },
    {
      "cell_type": "markdown",
      "metadata": {
        "id": "DbUaYcKkziLG"
      },
      "source": [
        "Para verificar, vamos criar dois tipos de esfirra - queijo e carne:"
      ]
    },
    {
      "cell_type": "code",
      "execution_count": null,
      "metadata": {
        "id": "T_aSZGKPziLG"
      },
      "outputs": [],
      "source": [
        "esfirra_queijo = Esfirra(\"Esfirra de Queijo\", 2.50)\n",
        "esfirra_carne = Esfirra(\"Esfirra de Carne\", 2.50)"
      ]
    },
    {
      "cell_type": "markdown",
      "metadata": {
        "id": "iQRLE1y4ziLG"
      },
      "source": [
        "Ambos já são automaticamente da classe `Esfirra`"
      ]
    },
    {
      "cell_type": "code",
      "execution_count": null,
      "metadata": {
        "id": "yIADp4VSziLG",
        "outputId": "adf61272-18fa-4118-eb57-3af442c43d6a",
        "colab": {
          "base_uri": "https://localhost:8080/"
        }
      },
      "outputs": [
        {
          "output_type": "stream",
          "name": "stdout",
          "text": [
            "<__main__.Esfirra object at 0x7ef474dd9a00> <__main__.Esfirra object at 0x7ef474dda300>\n"
          ]
        }
      ],
      "source": [
        "print(esfirra_queijo, esfirra_carne)"
      ]
    },
    {
      "cell_type": "markdown",
      "metadata": {
        "id": "XzhLCyJEziLH"
      },
      "source": [
        "Mas será que também são da classe `Prato`? Vamos usar a função `isinstance()` que vimos na aula passada para confirmar:"
      ]
    },
    {
      "cell_type": "code",
      "execution_count": null,
      "metadata": {
        "id": "tMZULLr1ziLH",
        "outputId": "aae7c316-29f2-477f-c304-72201a922c88",
        "colab": {
          "base_uri": "https://localhost:8080/"
        }
      },
      "outputs": [
        {
          "output_type": "stream",
          "name": "stdout",
          "text": [
            "True\n",
            "True\n"
          ]
        }
      ],
      "source": [
        "print(isinstance(esfirra_queijo, Prato))\n",
        "print(isinstance(esfirra_carne, Prato))"
      ]
    },
    {
      "cell_type": "markdown",
      "metadata": {
        "id": "imoHwVyVziLH"
      },
      "source": [
        "Da mesma forma com que os objetos da classe `Prato`, os métodos e atributos ficam automaticamente disponíves.... Mas como, se nao há um `__init__()` em `Esfirra`? Quando instanciamos uma `Esfirra`, busca-se um `__init__()` - mas quando não é achado, sobe-se para a classe superior e essa sim tem um `__init__()` lá, que é usado na criação do objeto. Exemplo:"
      ]
    },
    {
      "cell_type": "code",
      "execution_count": null,
      "metadata": {
        "id": "EY-vOURjziLH",
        "outputId": "1acf8790-5bd3-4ab0-e196-f1b3b42a8978",
        "colab": {
          "base_uri": "https://localhost:8080/",
          "height": 35
        }
      },
      "outputs": [
        {
          "output_type": "execute_result",
          "data": {
            "text/plain": [
              "'5.0%'"
            ],
            "application/vnd.google.colaboratory.intrinsic+json": {
              "type": "string"
            }
          },
          "metadata": {},
          "execution_count": 55
        }
      ],
      "source": [
        "esfirra_queijo.apresentar_desconto()"
      ]
    },
    {
      "cell_type": "markdown",
      "metadata": {
        "id": "76cL_o4XziLI"
      },
      "source": [
        "Esse mecanismo de ir subindo até encontrar uma solução é o que chamamos de *method resolution order* (ordem de resolução de método). Vamos usar a função `help()` e ver como fica o retorno de `Esfirra`:"
      ]
    },
    {
      "cell_type": "code",
      "execution_count": null,
      "metadata": {
        "tags": [],
        "id": "oEsU3aUnziLI",
        "outputId": "db3937f8-c522-4925-e3ba-e25c66d681cf",
        "colab": {
          "base_uri": "https://localhost:8080/"
        }
      },
      "outputs": [
        {
          "output_type": "stream",
          "name": "stdout",
          "text": [
            "Help on class Esfirra in module __main__:\n",
            "\n",
            "class Esfirra(Prato)\n",
            " |  Esfirra(nome, preco)\n",
            " |\n",
            " |  Method resolution order:\n",
            " |      Esfirra\n",
            " |      Prato\n",
            " |      builtins.object\n",
            " |\n",
            " |  Methods inherited from Prato:\n",
            " |\n",
            " |  __init__(self, nome, preco)\n",
            " |      Initialize self.  See help(type(self)) for accurate signature.\n",
            " |\n",
            " |  apresentar_desconto(self)\n",
            " |      # método da instância\n",
            " |\n",
            " |  apresentar_promocao(self)\n",
            " |      # método da instância\n",
            " |\n",
            " |  definir_desconto(self, novo_desconto)\n",
            " |      # método da instância\n",
            " |\n",
            " |  desconto_fidelidade(self)\n",
            " |      # método da instância\n",
            " |\n",
            " |  ----------------------------------------------------------------------\n",
            " |  Class methods inherited from Prato:\n",
            " |\n",
            " |  liquidacao(novo_desconto)\n",
            " |\n",
            " |  ----------------------------------------------------------------------\n",
            " |  Static methods inherited from Prato:\n",
            " |\n",
            " |  dia_semana(dia)\n",
            " |\n",
            " |  ----------------------------------------------------------------------\n",
            " |  Data descriptors inherited from Prato:\n",
            " |\n",
            " |  __dict__\n",
            " |      dictionary for instance variables\n",
            " |\n",
            " |  __weakref__\n",
            " |      list of weak references to the object\n",
            " |\n",
            " |  ----------------------------------------------------------------------\n",
            " |  Data and other attributes inherited from Prato:\n",
            " |\n",
            " |  desconto = 0.95\n",
            " |\n",
            " |  num_pratos = 2\n",
            "\n"
          ]
        }
      ],
      "source": [
        "help(Esfirra)"
      ]
    },
    {
      "cell_type": "markdown",
      "metadata": {
        "id": "I3KnPQG_ziLI"
      },
      "source": [
        "Mas se usarmos uma subclasse só para fazer uma cópia da classe, não tem muita graça. Vamos dar uma diferenciada em `Esfirra` para que tenha características próprias.\n",
        "\n",
        "Como vimos logo acima, `Esfirra` puxa de `Prato` o desconto fidelidade padrão de 5%. Mas a margem de lucro na esfirra é bem menor que nos pratos prontos. Nesse caso, vamos diminuir o desconto:"
      ]
    },
    {
      "cell_type": "code",
      "execution_count": null,
      "metadata": {
        "id": "9-HzbJdqziLI"
      },
      "outputs": [],
      "source": [
        "class Esfirra(Prato):\n",
        "\n",
        "    # atributo da classe\n",
        "    desconto = 0.97"
      ]
    },
    {
      "cell_type": "code",
      "execution_count": null,
      "metadata": {
        "id": "gSq1rgKTziLI",
        "outputId": "b23d63fb-5e96-4364-8dbe-193f48524b28",
        "colab": {
          "base_uri": "https://localhost:8080/",
          "height": 35
        }
      },
      "outputs": [
        {
          "output_type": "execute_result",
          "data": {
            "text/plain": [
              "'3.0%'"
            ],
            "application/vnd.google.colaboratory.intrinsic+json": {
              "type": "string"
            }
          },
          "metadata": {},
          "execution_count": 59
        }
      ],
      "source": [
        "esfirra_carne = Esfirra(\"Esfirra de Carne\", 2.50)\n",
        "esfirra_carne.apresentar_desconto()"
      ]
    },
    {
      "cell_type": "markdown",
      "metadata": {
        "id": "N3vuY5XqziLI"
      },
      "source": [
        "E isso não afeta a classe `Prato`:"
      ]
    },
    {
      "cell_type": "code",
      "execution_count": null,
      "metadata": {
        "id": "1nQyUw0uziLJ",
        "outputId": "c5fdaa8e-ec34-4810-e624-a84e9a5e6715",
        "colab": {
          "base_uri": "https://localhost:8080/",
          "height": 35
        }
      },
      "outputs": [
        {
          "output_type": "execute_result",
          "data": {
            "text/plain": [
              "'5.0%'"
            ],
            "application/vnd.google.colaboratory.intrinsic+json": {
              "type": "string"
            }
          },
          "metadata": {},
          "execution_count": 60
        }
      ],
      "source": [
        "bibs_salad = Prato(\"Bib's salad\", 8.99)\n",
        "bibs_salad.apresentar_desconto()"
      ]
    },
    {
      "cell_type": "markdown",
      "metadata": {
        "id": "Or0ewe12ziLJ"
      },
      "source": [
        "Além de alterar um atributo da classe original como fizemos, podemos criar outras características que não estão na classe original. Para tanto, temos que escrever o método `__init__()` da própria classe `Esfirra`. Por exemplo, esfirras têm diversos sabores, e pode ser interessante passar essa característica como atributo.\n",
        "\n",
        "Vamos começar copiando o `__init__()` de `Prato`, acrescentando `sabor`. Não vamos copiar os `self.atributos` da classe original - por preguiça e também por reprodutibilidade (menos chance de incoerência futura, de quebrar dependência, etc). Assim, deixamos para `Prato` o trabalho de lidar com `nome`, `preco` e para `Esfirra` lidar com `sabor`.\n",
        "\n",
        "Até aí tudo bem, mas só o `__init__()` não basta porque não estamos informando essa divisão de tarefas. Para fazer isso, precisamos da função `super()` que indica quais papeis são da classe *superior* (`Prato`). A outra opção é usar direto `__init__()` em `Prato` dentro de `Esfirra:"
      ]
    },
    {
      "cell_type": "code",
      "execution_count": null,
      "metadata": {
        "id": "9B8NT2X5ziLJ"
      },
      "outputs": [],
      "source": [
        "class Esfirra(Prato):\n",
        "\n",
        "    # atributo da classe\n",
        "    desconto = 0.97\n",
        "                                    #novo parâmetro\n",
        "    def __init__(self, nome, preco, sabor):\n",
        "        super().__init__(nome, preco)\n",
        "        #Prato.__init__(self, nome, preco)   #<-- funciona igual, mas usa self\n",
        "\n",
        "        # atributos das instâncias (que não sobe para Prato)\n",
        "        self.sabor = sabor"
      ]
    },
    {
      "cell_type": "code",
      "execution_count": null,
      "metadata": {
        "id": "tVVHjxlzziLJ"
      },
      "outputs": [],
      "source": [
        "esfirra_queijo = Esfirra(\"Esfirra de Queijo\", 2.50, \"queijo\")\n",
        "esfirra_carne = Esfirra(\"Esfirra de Carne\", 2.50, \"carne\")"
      ]
    },
    {
      "cell_type": "code",
      "execution_count": null,
      "metadata": {
        "id": "GNX9qDbbziLJ",
        "outputId": "7cf0ce78-3e90-41a6-c055-8bcb53b5da27",
        "colab": {
          "base_uri": "https://localhost:8080/",
          "height": 35
        }
      },
      "outputs": [
        {
          "output_type": "execute_result",
          "data": {
            "text/plain": [
              "'carne'"
            ],
            "application/vnd.google.colaboratory.intrinsic+json": {
              "type": "string"
            }
          },
          "metadata": {},
          "execution_count": 63
        }
      ],
      "source": [
        "esfirra_carne.sabor"
      ]
    },
    {
      "cell_type": "markdown",
      "metadata": {
        "id": "lQ3ExxsvziLJ"
      },
      "source": [
        "## Docstrings em Classes\n",
        "\n",
        "Da mesma forma que nas funções, não se esqueça de adicionar *docstrings* na sua classe para documentar o processo (veja a [PEP-257](https://www.python.org/dev/peps/pep-0257/)):"
      ]
    },
    {
      "cell_type": "code",
      "execution_count": null,
      "metadata": {
        "id": "B7jXsEdlziLK"
      },
      "outputs": [],
      "source": [
        "class Esfirra(Prato):\n",
        "    \"\"\"\n",
        "    Classe Esfirra é uma subclasse de Prato.\n",
        "    Altera o atributo desconto para 0.97\n",
        "    Objetos recebem em adição o parâmetro sabor\n",
        "    \"\"\"\n",
        "\n",
        "    # atributo da classe\n",
        "    desconto = 0.97\n",
        "                                    #novo parâmetro\n",
        "    def __init__(self, nome, preco, sabor):\n",
        "        super().__init__(nome, preco)\n",
        "        #Prato.__init__(self, nome, preco)   #<-- funciona igual, mas usa self\n",
        "\n",
        "        # atributos das instâncias (que não sobe para Prato)\n",
        "        self.sabor = sabor"
      ]
    },
    {
      "cell_type": "code",
      "execution_count": null,
      "metadata": {
        "id": "gItUMBrGziLK",
        "outputId": "4aeaa9ec-9537-4f24-c2d6-61925c80599e",
        "colab": {
          "base_uri": "https://localhost:8080/"
        }
      },
      "outputs": [
        {
          "output_type": "stream",
          "name": "stdout",
          "text": [
            "Help on class Esfirra in module __main__:\n",
            "\n",
            "class Esfirra(Prato)\n",
            " |  Esfirra(nome, preco, sabor)\n",
            " |\n",
            " |  Classe Esfirra é uma subclasse de Prato.\n",
            " |  Altera o atributo desconto para 0.97\n",
            " |  Objetos recebem em adição o parâmetro sabor\n",
            " |\n",
            " |  Method resolution order:\n",
            " |      Esfirra\n",
            " |      Prato\n",
            " |      builtins.object\n",
            " |\n",
            " |  Methods defined here:\n",
            " |\n",
            " |  __init__(self, nome, preco, sabor)\n",
            " |      Initialize self.  See help(type(self)) for accurate signature.\n",
            " |\n",
            " |  ----------------------------------------------------------------------\n",
            " |  Data and other attributes defined here:\n",
            " |\n",
            " |  desconto = 0.97\n",
            " |\n",
            " |  ----------------------------------------------------------------------\n",
            " |  Methods inherited from Prato:\n",
            " |\n",
            " |  apresentar_desconto(self)\n",
            " |      # método da instância\n",
            " |\n",
            " |  apresentar_promocao(self)\n",
            " |      # método da instância\n",
            " |\n",
            " |  definir_desconto(self, novo_desconto)\n",
            " |      # método da instância\n",
            " |\n",
            " |  desconto_fidelidade(self)\n",
            " |      # método da instância\n",
            " |\n",
            " |  ----------------------------------------------------------------------\n",
            " |  Class methods inherited from Prato:\n",
            " |\n",
            " |  liquidacao(novo_desconto)\n",
            " |\n",
            " |  ----------------------------------------------------------------------\n",
            " |  Static methods inherited from Prato:\n",
            " |\n",
            " |  dia_semana(dia)\n",
            " |\n",
            " |  ----------------------------------------------------------------------\n",
            " |  Data descriptors inherited from Prato:\n",
            " |\n",
            " |  __dict__\n",
            " |      dictionary for instance variables\n",
            " |\n",
            " |  __weakref__\n",
            " |      list of weak references to the object\n",
            " |\n",
            " |  ----------------------------------------------------------------------\n",
            " |  Data and other attributes inherited from Prato:\n",
            " |\n",
            " |  num_pratos = 6\n",
            "\n"
          ]
        }
      ],
      "source": [
        "help(Esfirra)"
      ]
    },
    {
      "cell_type": "markdown",
      "metadata": {
        "id": "3XUqOWONziLK"
      },
      "source": [
        "# Material Extra\n",
        "\n",
        "* Lista de exercícios de `Python` da [comunidade Python Brasil](https://wiki.python.org.br/ListaDeExercicios)."
      ]
    },
    {
      "cell_type": "markdown",
      "metadata": {
        "id": "wKbKqTJjziLK"
      },
      "source": [
        "# Erros Comuns\n",
        "\n",
        "\n",
        "* Criar um método sem se referenciar ao `self`. Como em toda função, esse código não é avaliado em sua criação e sim durante a interpretação (você só descobre depois!). Se você olhar o erro que retorna, trata-se da falta do self (\"*...takes 0 positional arguments but 1 was given*\").\n",
        "* Não recriar objetos depois de mexer na classe - o objeto não refletirá as alterações feitas.\n",
        "* Esquecer de usar `super()` antes de `.__init__()` quando criar uma subclasse."
      ]
    },
    {
      "cell_type": "markdown",
      "metadata": {
        "id": "d1qSvNb5ziLK"
      },
      "source": [
        "# Atividade Classe/Métodos\n",
        "Desenvolva uma classe (denominada Operacoes) que contenha os métodos para: adição, subtração, multiplicação e divisão.\n",
        "\n",
        "1. As operações são apenas entre dois números.\n",
        "2. Realize uma operação com cada método."
      ]
    },
    {
      "cell_type": "code",
      "execution_count": null,
      "metadata": {
        "id": "v5CTjP29ziLL"
      },
      "outputs": [],
      "source": [
        "class Operacoes:\n",
        "        def __init__(self, n_1, n_2):\n",
        "            self.val_1 = n_1\n",
        "            self.val_2 = n_2"
      ]
    },
    {
      "cell_type": "code",
      "execution_count": null,
      "metadata": {
        "id": "rSFVuiLoziLL",
        "outputId": "001167cb-061d-4393-c591-4c6734e948cb",
        "colab": {
          "base_uri": "https://localhost:8080/",
          "height": 106
        }
      },
      "outputs": [
        {
          "output_type": "error",
          "ename": "SyntaxError",
          "evalue": "invalid syntax (ipython-input-846996212.py, line 3)",
          "traceback": [
            "\u001b[0;36m  File \u001b[0;32m\"/tmp/ipython-input-846996212.py\"\u001b[0;36m, line \u001b[0;32m3\u001b[0m\n\u001b[0;31m    print('Adição:', $$)\u001b[0m\n\u001b[0m                     ^\u001b[0m\n\u001b[0;31mSyntaxError\u001b[0m\u001b[0;31m:\u001b[0m invalid syntax\n"
          ]
        }
      ],
      "source": [
        "op = Operacoes(10, 20)\n",
        "\n",
        "print('Adição:', $$)\n",
        "print('Subtração:', $$)\n",
        "print('Multiplicação:', $$)\n",
        "print('Divisão:', $$)"
      ]
    }
  ],
  "metadata": {
    "celltoolbar": "Slideshow",
    "kernelspec": {
      "display_name": "Python [conda env:ciencia-de-dados]",
      "language": "python",
      "name": "conda-env-ciencia-de-dados-py"
    },
    "language_info": {
      "codemirror_mode": {
        "name": "ipython",
        "version": 3
      },
      "file_extension": ".py",
      "mimetype": "text/x-python",
      "name": "python",
      "nbconvert_exporter": "python",
      "pygments_lexer": "ipython3",
      "version": "3.7.10"
    },
    "rise": {
      "autolaunch": true,
      "enable_chalkboard": true,
      "progress": true,
      "scroll": true,
      "slideNumber": true,
      "theme": "black"
    },
    "colab": {
      "provenance": [],
      "include_colab_link": true
    }
  },
  "nbformat": 4,
  "nbformat_minor": 0
}