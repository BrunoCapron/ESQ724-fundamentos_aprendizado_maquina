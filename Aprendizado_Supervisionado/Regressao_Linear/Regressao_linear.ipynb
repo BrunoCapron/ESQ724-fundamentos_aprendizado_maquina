{
  "nbformat": 4,
  "nbformat_minor": 0,
  "metadata": {
    "colab": {
      "provenance": [],
      "authorship_tag": "ABX9TyMexunkEVvTm7L0f7pAByY8",
      "include_colab_link": true
    },
    "kernelspec": {
      "name": "python3",
      "display_name": "Python 3"
    },
    "language_info": {
      "name": "python"
    }
  },
  "cells": [
    {
      "cell_type": "markdown",
      "metadata": {
        "id": "view-in-github",
        "colab_type": "text"
      },
      "source": [
        "<a href=\"https://colab.research.google.com/github/BrunoCapron/ESQ724-fundamentos_aprendizado_maquina/blob/main/Aprendizado_Supervisionado/Regressao_Linear/Regressao_linear.ipynb\" target=\"_parent\"><img src=\"https://colab.research.google.com/assets/colab-badge.svg\" alt=\"Open In Colab\"/></a>"
      ]
    },
    {
      "cell_type": "markdown",
      "source": [
        "#Exemplo de regressão linear"
      ],
      "metadata": {
        "id": "tcATeh34Ci1k"
      }
    },
    {
      "cell_type": "code",
      "execution_count": 1,
      "metadata": {
        "colab": {
          "base_uri": "https://localhost:8080/"
        },
        "id": "x1d_uAZzCeBc",
        "outputId": "427e71ec-5669-4fa9-a1db-8b06b2c9c838"
      },
      "outputs": [
        {
          "output_type": "stream",
          "name": "stdout",
          "text": [
            "[[1.37847237]\n",
            " [0.52914741]\n",
            " [0.63690817]\n",
            " [0.16455014]\n",
            " [0.52526625]\n",
            " [1.08480974]\n",
            " [1.58913143]\n",
            " [1.66611461]\n",
            " [0.01652229]\n",
            " [0.62441899]\n",
            " [1.37559627]\n",
            " [1.57088117]\n",
            " [0.15732849]\n",
            " [0.98326614]\n",
            " [0.63011075]\n",
            " [0.65200632]\n",
            " [1.3429958 ]\n",
            " [0.27262296]\n",
            " [1.79721739]\n",
            " [1.19007488]\n",
            " [0.16800931]\n",
            " [1.75931523]\n",
            " [0.89768362]\n",
            " [1.03833576]\n",
            " [1.49712203]\n",
            " [1.47855345]\n",
            " [0.04020013]\n",
            " [0.17015839]\n",
            " [1.47022376]\n",
            " [1.53212084]\n",
            " [1.47277943]\n",
            " [0.12444569]\n",
            " [0.34378158]\n",
            " [0.79075329]\n",
            " [0.26779214]\n",
            " [1.27825615]\n",
            " [1.97016465]\n",
            " [0.89037154]\n",
            " [0.95562756]\n",
            " [1.61281091]\n",
            " [0.64044256]\n",
            " [1.53345986]\n",
            " [0.27415835]\n",
            " [0.14557742]\n",
            " [1.12050762]\n",
            " [1.43106201]\n",
            " [0.68960567]\n",
            " [1.26394109]\n",
            " [1.19105885]\n",
            " [1.35587164]\n",
            " [1.19729426]\n",
            " [1.69592888]\n",
            " [1.97034265]\n",
            " [1.5501508 ]\n",
            " [1.8063072 ]\n",
            " [0.85660695]\n",
            " [0.35861382]\n",
            " [1.72107474]\n",
            " [0.37473385]\n",
            " [0.46355056]\n",
            " [1.94808834]\n",
            " [1.75672001]\n",
            " [1.93732525]\n",
            " [1.95875398]\n",
            " [0.70114872]\n",
            " [0.26697265]\n",
            " [1.56023178]\n",
            " [1.66449857]\n",
            " [0.51906604]\n",
            " [0.60436607]\n",
            " [1.31907228]\n",
            " [1.27856887]\n",
            " [1.73986855]\n",
            " [0.10424376]\n",
            " [1.07835819]\n",
            " [0.50452417]\n",
            " [1.31920369]\n",
            " [0.5070895 ]\n",
            " [1.64029703]\n",
            " [1.75727791]\n",
            " [1.86740241]\n",
            " [0.64701172]\n",
            " [0.34934771]\n",
            " [0.7218907 ]\n",
            " [1.93118574]\n",
            " [0.49651783]\n",
            " [1.76573777]\n",
            " [1.11573882]\n",
            " [1.9505771 ]\n",
            " [1.90037096]\n",
            " [1.0268539 ]\n",
            " [0.78110022]\n",
            " [1.28082889]\n",
            " [0.56760599]\n",
            " [1.37066031]\n",
            " [1.7780064 ]\n",
            " [1.21328606]\n",
            " [0.70479444]\n",
            " [0.06430253]\n",
            " [1.79980372]]\n"
          ]
        }
      ],
      "source": [
        "#geramos artificialmente dados que tem uma tendência linear\n",
        "\n",
        "import numpy as np\n",
        "\n",
        "X = 2 * np.random.rand(100, 1) #gera um vetor coluna com 100 valores entre 0 e 2 sorteados aleatoriamente a partir de uma distribuição uniforme\n",
        "print(X)\n"
      ]
    },
    {
      "cell_type": "code",
      "source": [
        "y = 4 + 3 * X + np.random.randn(100, 1) #np.random.randn gera numeros aleatorios a partir de uma distribuição normal de média 0 e variância 1"
      ],
      "metadata": {
        "id": "b5zcX-OUDyNo"
      },
      "execution_count": 2,
      "outputs": []
    },
    {
      "cell_type": "markdown",
      "source": [
        "Vamos plotar os dados obtidos"
      ],
      "metadata": {
        "id": "SQGyZyjREmCj"
      }
    },
    {
      "cell_type": "code",
      "source": [
        "import matplotlib.pyplot as plt\n",
        "\n",
        "plt.plot(X, y, \"b.\")\n",
        "plt.xlabel(\"$x_1$\", fontsize=18)\n",
        "plt.ylabel(\"$y$\", rotation=0, fontsize=18)\n",
        "plt.axis([0, 2, 0, 15])"
      ],
      "metadata": {
        "colab": {
          "base_uri": "https://localhost:8080/",
          "height": 476
        },
        "id": "0QG88GtVES68",
        "outputId": "10b8c526-9389-4e56-b77a-f0bd3e676f57"
      },
      "execution_count": 3,
      "outputs": [
        {
          "output_type": "execute_result",
          "data": {
            "text/plain": [
              "(np.float64(0.0), np.float64(2.0), np.float64(0.0), np.float64(15.0))"
            ]
          },
          "metadata": {},
          "execution_count": 3
        },
        {
          "output_type": "display_data",
          "data": {
            "text/plain": [
              "<Figure size 640x480 with 1 Axes>"
            ],
            "image/png": "[encoded data removed]"
          },
          "metadata": {}
        }
      ]
    },
    {
      "cell_type": "markdown",
      "source": [
        "Podemos aplicar a regressão linear aos dados"
      ],
      "metadata": {
        "id": "f4Ka_xmdEwE4"
      }
    },
    {
      "cell_type": "code",
      "source": [
        "X_b = np.c_[np.ones((100, 1)), X]  # acrescentamos x0 = 1 a cada instância\n",
        "print(X_b)"
      ],
      "metadata": {
        "colab": {
          "base_uri": "https://localhost:8080/"
        },
        "id": "EGIZciI0E42Y",
        "outputId": "1ce94396-04ba-46ee-a2df-3c9f83e9f494"
      },
      "execution_count": 4,
      "outputs": [
        {
          "output_type": "stream",
          "name": "stdout",
          "text": [
            "[[1.         1.37847237]\n",
            " [1.         0.52914741]\n",
            " [1.         0.63690817]\n",
            " [1.         0.16455014]\n",
            " [1.         0.52526625]\n",
            " [1.         1.08480974]\n",
            " [1.         1.58913143]\n",
            " [1.         1.66611461]\n",
            " [1.         0.01652229]\n",
            " [1.         0.62441899]\n",
            " [1.         1.37559627]\n",
            " [1.         1.57088117]\n",
            " [1.         0.15732849]\n",
            " [1.         0.98326614]\n",
            " [1.         0.63011075]\n",
            " [1.         0.65200632]\n",
            " [1.         1.3429958 ]\n",
            " [1.         0.27262296]\n",
            " [1.         1.79721739]\n",
            " [1.         1.19007488]\n",
            " [1.         0.16800931]\n",
            " [1.         1.75931523]\n",
            " [1.         0.89768362]\n",
            " [1.         1.03833576]\n",
            " [1.         1.49712203]\n",
            " [1.         1.47855345]\n",
            " [1.         0.04020013]\n",
            " [1.         0.17015839]\n",
            " [1.         1.47022376]\n",
            " [1.         1.53212084]\n",
            " [1.         1.47277943]\n",
            " [1.         0.12444569]\n",
            " [1.         0.34378158]\n",
            " [1.         0.79075329]\n",
            " [1.         0.26779214]\n",
            " [1.         1.27825615]\n",
            " [1.         1.97016465]\n",
            " [1.         0.89037154]\n",
            " [1.         0.95562756]\n",
            " [1.         1.61281091]\n",
            " [1.         0.64044256]\n",
            " [1.         1.53345986]\n",
            " [1.         0.27415835]\n",
            " [1.         0.14557742]\n",
            " [1.         1.12050762]\n",
            " [1.         1.43106201]\n",
            " [1.         0.68960567]\n",
            " [1.         1.26394109]\n",
            " [1.         1.19105885]\n",
            " [1.         1.35587164]\n",
            " [1.         1.19729426]\n",
            " [1.         1.69592888]\n",
            " [1.         1.97034265]\n",
            " [1.         1.5501508 ]\n",
            " [1.         1.8063072 ]\n",
            " [1.         0.85660695]\n",
            " [1.         0.35861382]\n",
            " [1.         1.72107474]\n",
            " [1.         0.37473385]\n",
            " [1.         0.46355056]\n",
            " [1.         1.94808834]\n",
            " [1.         1.75672001]\n",
            " [1.         1.93732525]\n",
            " [1.         1.95875398]\n",
            " [1.         0.70114872]\n",
            " [1.         0.26697265]\n",
            " [1.         1.56023178]\n",
            " [1.         1.66449857]\n",
            " [1.         0.51906604]\n",
            " [1.         0.60436607]\n",
            " [1.         1.31907228]\n",
            " [1.         1.27856887]\n",
            " [1.         1.73986855]\n",
            " [1.         0.10424376]\n",
            " [1.         1.07835819]\n",
            " [1.         0.50452417]\n",
            " [1.         1.31920369]\n",
            " [1.         0.5070895 ]\n",
            " [1.         1.64029703]\n",
            " [1.         1.75727791]\n",
            " [1.         1.86740241]\n",
            " [1.         0.64701172]\n",
            " [1.         0.34934771]\n",
            " [1.         0.7218907 ]\n",
            " [1.         1.93118574]\n",
            " [1.         0.49651783]\n",
            " [1.         1.76573777]\n",
            " [1.         1.11573882]\n",
            " [1.         1.9505771 ]\n",
            " [1.         1.90037096]\n",
            " [1.         1.0268539 ]\n",
            " [1.         0.78110022]\n",
            " [1.         1.28082889]\n",
            " [1.         0.56760599]\n",
            " [1.         1.37066031]\n",
            " [1.         1.7780064 ]\n",
            " [1.         1.21328606]\n",
            " [1.         0.70479444]\n",
            " [1.         0.06430253]\n",
            " [1.         1.79980372]]\n"
          ]
        }
      ]
    },
    {
      "cell_type": "code",
      "source": [
        "theta_best = np.linalg.inv(X_b.T.dot(X_b)).dot(X_b.T).dot(y)\n",
        "print(theta_best)"
      ],
      "metadata": {
        "colab": {
          "base_uri": "https://localhost:8080/"
        },
        "id": "XDGZYTgfFGBu",
        "outputId": "0313564e-2c26-40ed-fcc8-50d277956107"
      },
      "execution_count": 6,
      "outputs": [
        {
          "output_type": "stream",
          "name": "stdout",
          "text": [
            "[[4.20012731]\n",
            " [2.81072129]]\n"
          ]
        }
      ]
    },
    {
      "cell_type": "markdown",
      "source": [
        "Podemos agora fazer predições usando o modelo linear obtido"
      ],
      "metadata": {
        "id": "PBysdSlbFdmj"
      }
    },
    {
      "cell_type": "code",
      "source": [
        "X_new = np.array([[0], [2]])\n",
        "X_new_b = np.c_[np.ones((2, 1)), X_new]\n",
        "y_predict = X_new_b.dot(theta_best)\n",
        "y_predict\n",
        "\n"
      ],
      "metadata": {
        "colab": {
          "base_uri": "https://localhost:8080/"
        },
        "id": "36C1P-d8FpWV",
        "outputId": "a238e246-bbb1-485b-a060-e135172b4ec4"
      },
      "execution_count": 8,
      "outputs": [
        {
          "output_type": "execute_result",
          "data": {
            "text/plain": [
              "array([[4.20012731],\n",
              "       [9.82156988]])"
            ]
          },
          "metadata": {},
          "execution_count": 8
        }
      ]
    },
    {
      "cell_type": "markdown",
      "source": [
        "Vamos acrescentar as predições no gráfico de dados"
      ],
      "metadata": {
        "id": "nHrgIII1HxZh"
      }
    },
    {
      "cell_type": "code",
      "source": [
        "plt.plot(X_new, y_predict, \"r-\")\n",
        "plt.plot(X, y, \"b.\")\n",
        "plt.axis([0, 2, 0, 15])\n",
        "plt.show()"
      ],
      "metadata": {
        "colab": {
          "base_uri": "https://localhost:8080/",
          "height": 430
        },
        "id": "81Fag26FH4nY",
        "outputId": "20b3014e-a99b-411b-fbf5-edc7f77a9c9c"
      },
      "execution_count": 9,
      "outputs": [
        {
          "output_type": "display_data",
          "data": {
            "text/plain": [
              "<Figure size 640x480 with 1 Axes>"
            ],
            "image/png": "[encoded data removed]"
          },
          "metadata": {}
        }
      ]
    },
    {
      "cell_type": "markdown",
      "source": [
        "Usando Scikit-Learn"
      ],
      "metadata": {
        "id": "BFsrw5dPI3IW"
      }
    },
    {
      "cell_type": "code",
      "source": [
        "from sklearn.linear_model import LinearRegression\n",
        "\n",
        "lin_reg = LinearRegression()\n",
        "lin_reg.fit(X,y)\n",
        "lin_reg.intercept_, lin_reg.coef_ #intercept corresponde a Theta_0\n"
      ],
      "metadata": {
        "colab": {
          "base_uri": "https://localhost:8080/"
        },
        "id": "v5K_HYrLI6-V",
        "outputId": "6f4a7b8a-656b-48be-c312-678733bbeb9b"
      },
      "execution_count": 10,
      "outputs": [
        {
          "output_type": "execute_result",
          "data": {
            "text/plain": [
              "(array([4.20012731]), array([[2.81072129]]))"
            ]
          },
          "metadata": {},
          "execution_count": 10
        }
      ]
    },
    {
      "cell_type": "code",
      "source": [
        "lin_reg.predict(X_new)"
      ],
      "metadata": {
        "colab": {
          "base_uri": "https://localhost:8080/"
        },
        "id": "U2__FkZWJaRY",
        "outputId": "f069c224-887c-4a5c-fb8c-2877e5d7d564"
      },
      "execution_count": 11,
      "outputs": [
        {
          "output_type": "execute_result",
          "data": {
            "text/plain": [
              "array([[4.20012731],\n",
              "       [9.82156988]])"
            ]
          },
          "metadata": {},
          "execution_count": 11
        }
      ]
    }
  ]
}